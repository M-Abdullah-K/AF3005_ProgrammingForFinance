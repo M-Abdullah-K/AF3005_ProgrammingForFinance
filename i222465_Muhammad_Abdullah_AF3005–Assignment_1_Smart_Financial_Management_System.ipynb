{
  "cells": [
    {
      "cell_type": "markdown",
      "metadata": {
        "id": "5SRLdaqmHtmP"
      },
      "source": [
        "# **AF3005 – Programming for Finance**  \n",
        "\n",
        "---\n",
        "\n",
        "## **📘 Assignment 1: Smart Financial Management System**  \n",
        "\n",
        "📍 **FAST National University of Computer and Emerging Sciences (FAST-NUCES), Islamabad**  \n",
        "👨‍🏫 **Instructor:** Dr. Usama Arshad (Assistant Professor, FSM)  \n",
        "🎓 **Program:** BS Financial Technology (BSFT)  \n",
        "📅 **Semester:** Spring 2025  \n",
        "📌 **Sections:** BSFT06A, BSFT06B, BSFT06C  \n",
        "\n",
        "---\n",
        "\n",
        "## **🎯 Course Learning Outcomes (CLOs)**  \n",
        "- **CLO1:** Write Python programs to solve basic financial problems.  \n",
        "- **CLO2:** Perform data manipulation and analysis using Python libraries.  \n",
        "\n",
        "---\n",
        "\n",
        "\n",
        "\n",
        "\n",
        "\n",
        "\n",
        "\n",
        "\n",
        "\n",
        "\n",
        "\n"
      ]
    },
    {
      "cell_type": "markdown",
      "metadata": {
        "id": "wXgvxhSVQXNz"
      },
      "source": [
        "\n",
        "# **🟢 Deadline: 15th February 2025**\n",
        "\n",
        "---\n",
        "\n"
      ]
    },
    {
      "cell_type": "markdown",
      "metadata": {
        "id": "mHDXP18hMn3A"
      },
      "source": [
        "## **📥 Submission Guidelines**\n",
        "- **File Format:** Submit your assignment as a Jupyter Notebook file (`.ipynb`).\n",
        "- **Naming Convention:** Use the format `[Your_regno]_AF3005_Assignment1.ipynb`.\n",
        "- **Submission Platform:** Upload your file to **Google Classroom** under the assigned submission.\n",
        "- **GitHub Repository:**\n",
        "  - Create a GitHub repository named `AF3005_ProgrammingForFinance`.\n",
        "  - Upload your `.ipynb` file.\n",
        "  - Ensure the repository is structured properly with a `README.md` explaining the implementation.\n",
        "  - The implementation must include `ipywidgets` for interactive elements.\n",
        "  - Share the GitHub repository link in Google Classroom submission with file.\n",
        "\n",
        "---\n",
        "\n",
        "---\n",
        "\n"
      ]
    },
    {
      "cell_type": "markdown",
      "metadata": {
        "id": "XEanO5EiLdC9"
      },
      "source": [
        "# **🟢 Scenario: Smart Financial Management System [20 marks]**  \n",
        "\n",
        "\n",
        "---\n",
        "\n",
        "\n",
        "SecureBank wants to develop an **automated financial management system** using Python. Your task is to implement different financial operations step by step.\n",
        "\n",
        "This system will:  \n",
        "✅ **Assess customer eligibility for loans.**  \n",
        "✅ **Classify investment portfolios based on risk.**  \n",
        "✅ **Automate loan repayment tracking.**  \n",
        "✅ **Monitor stock market trends and trigger alerts.**  \n",
        "✅ **Track currency exchange rates and suggest conversions.**  \n",
        "\n",
        "Your task is to **break down the requirements, write a structured plan, and implement the logic step by step** using **ipywidgets** for interactive user inputs.\n",
        "\n",
        "---\n",
        "\n"
      ]
    },
    {
      "cell_type": "markdown",
      "metadata": {
        "id": "sIKHzkmkLYYM"
      },
      "source": [
        "## **🟢 Part 1: Loan Eligibility & Interest Rate Calculation [4 marks]**  \n",
        "\n",
        "📌 **Requirement:**  \n",
        "SecureBank only approves loans if the **customer meets all eligibility criteria**. The system should:  \n",
        "✔ **Check if the customer is employed.**  \n",
        "✔ **Verify if the income is at least PKR 50,000.**  \n",
        "✔ **Check credit score:**  \n",
        "   - **750+ → 5% Interest Rate**  \n",
        "   - **650 - 749 → 8% Interest Rate**  \n",
        "   - **Below 650 → Loan Rejected**  \n",
        "✔ **If the applicant is unemployed, the loan is rejected immediately.**  \n",
        "\n",
        "### **Implementation Steps:**  \n",
        "🔹 **Step 1:** Structure the `if-elif-else` statements for this logic.  \n",
        "🔹 **Step 2:** Implement a Python program using **ipywidgets** for interactive user input (income, credit score, employment status) to decide whether the loan is approved or rejected.\n",
        "\n",
        "---"
      ]
    },
    {
      "cell_type": "code",
      "execution_count": null,
      "metadata": {
        "colab": {
          "base_uri": "https://localhost:8080/",
          "height": 141,
          "referenced_widgets": [
            "316da89d120847ada87eafd156c9ccd1",
            "d0c8e32397ae407aaca4479394ee0a30",
            "137eec6c56a0457783ac9f5f6a19e582",
            "4d9678ddd2ef4898ac8c039fd88b830a",
            "522d960bc939428590b8fde914a8c624",
            "fba8f9abb8424db8b4e0482db023ba9f",
            "8cc770e3887b4a4f98806d87f6b778d7",
            "a05b5ee955a4410cb65f898cc5cebc2f",
            "f5dada985abb472e9f051b4f9e459b71",
            "9fa4deab071143f2b8949745060c9e1b",
            "a86d41e7eefc4e87b30023bd315f686f",
            "ea7677873929496e8d38a1c271598e1b",
            "5ccb4f57810c4ef7a004f0167894f83d",
            "84143bdd58be4614b48305439240196f"
          ]
        },
        "id": "JnoBYZkTKqRw",
        "outputId": "702a4f3e-817f-4b18-eb93-97cdda3cfc13"
      },
      "outputs": [
        {
          "data": {
            "application/vnd.jupyter.widget-view+json": {
              "model_id": "316da89d120847ada87eafd156c9ccd1",
              "version_major": 2,
              "version_minor": 0
            },
            "text/plain": [
              "Dropdown(description='Employment:', options=('Employed', 'Unemployed'), value='Employed')"
            ]
          },
          "metadata": {},
          "output_type": "display_data"
        },
        {
          "data": {
            "application/vnd.jupyter.widget-view+json": {
              "model_id": "4d9678ddd2ef4898ac8c039fd88b830a",
              "version_major": 2,
              "version_minor": 0
            },
            "text/plain": [
              "FloatText(value=0.0, description='Income:')"
            ]
          },
          "metadata": {},
          "output_type": "display_data"
        },
        {
          "data": {
            "application/vnd.jupyter.widget-view+json": {
              "model_id": "8cc770e3887b4a4f98806d87f6b778d7",
              "version_major": 2,
              "version_minor": 0
            },
            "text/plain": [
              "IntText(value=0, description='Credit Score:')"
            ]
          },
          "metadata": {},
          "output_type": "display_data"
        },
        {
          "data": {
            "application/vnd.jupyter.widget-view+json": {
              "model_id": "9fa4deab071143f2b8949745060c9e1b",
              "version_major": 2,
              "version_minor": 0
            },
            "text/plain": [
              "Button(description='Submit', style=ButtonStyle())"
            ]
          },
          "metadata": {},
          "output_type": "display_data"
        },
        {
          "data": {
            "application/vnd.jupyter.widget-view+json": {
              "model_id": "5ccb4f57810c4ef7a004f0167894f83d",
              "version_major": 2,
              "version_minor": 0
            },
            "text/plain": [
              "Output()"
            ]
          },
          "metadata": {},
          "output_type": "display_data"
        }
      ],
      "source": [
        "import ipywidgets as widgets\n",
        "\n",
        "employment_customer = widgets.Dropdown(\n",
        "    options=['Employed', 'Unemployed'],\n",
        "    description = 'Employment:',\n",
        ")\n",
        "\n",
        "income = widgets.FloatText(description= 'Income:')\n",
        "credit_score = widgets.IntText(description= 'Credit Score:')\n",
        "submit_button = widgets.Button(description='Submit')\n",
        "\n",
        "output = widgets.Output()\n",
        "\n",
        "def loan_eligability(b):\n",
        "  with output:\n",
        "    if employment_customer.value == 'Unemployed':\n",
        "      print('Loan Rejected: you\\'re unemployed!!! :(')\n",
        "    elif income.value < 50000:\n",
        "      print('Loan Rejected: Insufficient Income!!! :(')\n",
        "    elif credit_score.value < 650:\n",
        "      print('Loan rejected: Insufficient Credit Score!!! :(' )\n",
        "    elif credit_score.value >= 650 and credit_score.value <= 750:\n",
        "      print('Loan accepted, intrest rate is 8%!!! :)')\n",
        "    elif credit_score.value > 750:\n",
        "      print('Loan accepted: interest rate is 5%!!! :)')\n",
        "\n",
        "submit_button.on_click(loan_eligability)\n",
        "\n",
        "display(employment_customer, income, credit_score, submit_button, output)\n"
      ]
    },
    {
      "cell_type": "markdown",
      "metadata": {
        "id": "s66ykZPwKmRL"
      },
      "source": [
        "## **🟢 Part 2: Investment Risk Assessment [4 marks]**  \n",
        "\n",
        "📌 **Requirement:**  \n",
        "SecureBank offers **investment analysis services**. The system should evaluate a **portfolio of stocks** and classify the risk level based on stock returns:  \n",
        "✔ If **any stock has a negative return**, the portfolio is **High Risk**.  \n",
        "✔ If **all stocks have positive returns**, but at least one return is below 5%, classify as **Medium Risk**.  \n",
        "✔ If **all stock returns are 5% or above**, classify as **Low Risk**.  \n",
        "\n",
        "### **Implementation Steps:**  \n",
        "🔹 **Step 1:** Use loops to iterate through the list of stock returns.  \n",
        "🔹 **Step 2:** Implement `if-elif` conditions to classify the risk.  \n",
        "🔹 **Step 3:** Write a Python program using **ipywidgets** to allow users to **input stock returns interactively** and receive a risk assessment.\n",
        "\n",
        "---"
      ]
    },
    {
      "cell_type": "code",
      "execution_count": null,
      "metadata": {
        "colab": {
          "base_uri": "https://localhost:8080/",
          "height": 98,
          "referenced_widgets": [
            "e81a5c703e6146b5a00e445e67a69951",
            "73863fd4e9a7491884cf2b5ca79f263b",
            "3e90d8f83dbd4d599eaaba7462eb9c11",
            "bcca170fc34648d98342c44aacefc500",
            "fcc082b7a0f34ce08ea48c7ed335697b",
            "837d846f0a6a4c0abf6004342e2d2719",
            "20c441e7937848a28b9fa67ea6fd571e",
            "ac21365dd7a6461a9f9fa976f7be4164"
          ]
        },
        "id": "I6Mi2LbOKtym",
        "outputId": "7e00a193-c315-43a8-e802-cbb60f26fd75"
      },
      "outputs": [
        {
          "data": {
            "application/vnd.jupyter.widget-view+json": {
              "model_id": "e81a5c703e6146b5a00e445e67a69951",
              "version_major": 2,
              "version_minor": 0
            },
            "text/plain": [
              "Text(value='', description='Returns:', placeholder='Enter Stock Returns (e.g., 10, 5, 3, 12)')"
            ]
          },
          "metadata": {},
          "output_type": "display_data"
        },
        {
          "data": {
            "application/vnd.jupyter.widget-view+json": {
              "model_id": "bcca170fc34648d98342c44aacefc500",
              "version_major": 2,
              "version_minor": 0
            },
            "text/plain": [
              "Button(description='Assess the returns', style=ButtonStyle())"
            ]
          },
          "metadata": {},
          "output_type": "display_data"
        },
        {
          "data": {
            "application/vnd.jupyter.widget-view+json": {
              "model_id": "20c441e7937848a28b9fa67ea6fd571e",
              "version_major": 2,
              "version_minor": 0
            },
            "text/plain": [
              "Output()"
            ]
          },
          "metadata": {},
          "output_type": "display_data"
        }
      ],
      "source": [
        "import ipywidgets as widgets\n",
        "from IPython.display import display, clear_output\n",
        "\n",
        "stock_returns = widgets.Text(\n",
        "    placeholder = \"Enter Stock Returns (e.g., 10, 5, 3, 12)\",\n",
        "    description = \"Returns:\",\n",
        ")\n",
        "\n",
        "assess_button = widgets.Button(description=\"Assess the returns\")\n",
        "\n",
        "output = widgets.Output()\n",
        "\n",
        "def assess_risk(b):\n",
        "  with output:\n",
        "    clear_output()\n",
        "    try:\n",
        "      returns_list = [float(x.strip()) for x in stock_returns.value.split(',')]\n",
        "    except ValueError:\n",
        "      print('Invalid input. Please enter comma seperated values/returns')\n",
        "      return\n",
        "    for r in returns_list:\n",
        "      if r < 0:\n",
        "        print(\"High risk portfolio due to negative stock\")\n",
        "        return\n",
        "\n",
        "    for r in returns_list:\n",
        "      if r < 5:\n",
        "        print(\"Medium risk due to atleast one stock being lower than 5% returns!!!\")\n",
        "        return\n",
        "\n",
        "    for r in returns_list:\n",
        "      if r < 5:\n",
        "        break\n",
        "\n",
        "    else:\n",
        "      print(\"Low risk due to all returns being higher than 5%\")\n",
        "\n",
        "assess_button.on_click(assess_risk)\n",
        "display(stock_returns, assess_button, output)"
      ]
    },
    {
      "cell_type": "markdown",
      "metadata": {
        "id": "xTrlsvaZKhaQ"
      },
      "source": [
        "## **🟢 Part 3: Loan Repayment Tracker [4 marks]**  \n",
        "\n",
        "📌 **Requirement:**  \n",
        "Customers who receive a loan should be able to track their **loan balance** as they make monthly payments. The system should:  \n",
        "✔ Start with an **initial loan balance** (e.g., PKR 500,000).  \n",
        "✔ Deduct a **fixed monthly payment** (e.g., PKR 25,000).  \n",
        "✔ Continue tracking until **loan balance reaches zero**.  \n",
        "✔ Display the remaining balance **after each payment**.  \n",
        "\n",
        "### **Implementation Steps:**  \n",
        "🔹 **Step 1:** Choose an appropriate loop (`for` or `while`).  \n",
        "🔹 **Step 2:** Ensure the loop **stops once the loan is fully paid**.  \n",
        "🔹 **Step 3:** Implement a Python program using **ipywidgets** to **simulate loan repayment interactively**.\n",
        "\n",
        "---"
      ]
    },
    {
      "cell_type": "code",
      "execution_count": null,
      "metadata": {
        "colab": {
          "base_uri": "https://localhost:8080/",
          "height": 285,
          "referenced_widgets": [
            "61eba067290e4ad394156fd42cc911d7",
            "aea316c1423f479b8efb3fd5543e3531",
            "df6c5d4f0b5b46bbb2f3e0f1be4f7ccc",
            "e97a02db7015445e9896cc7a8130ccb8",
            "c712f2a5d1bb4f54826a580f417b4630",
            "e04ca11b89a54b5daf86bb887b2c6489",
            "ace503b315814677a2339f32b5f9f1a4",
            "b91479e2886c4d94bbfd14f63d7c238d",
            "873a43837ff7442f95475d8ad1a5158d",
            "9364590dc56c44a4806374658cabe5cc",
            "731629398d8e468a94dc147fa0393c71"
          ]
        },
        "id": "h3V9vFDjKvGH",
        "outputId": "ac11342c-d0d6-4e0d-fb72-cdedd99e8c3a"
      },
      "outputs": [
        {
          "data": {
            "application/vnd.jupyter.widget-view+json": {
              "model_id": "61eba067290e4ad394156fd42cc911d7",
              "version_major": 2,
              "version_minor": 0
            },
            "text/plain": [
              "FloatText(value=0.0, description='Please enter initial loan amount:')"
            ]
          },
          "metadata": {},
          "output_type": "display_data"
        },
        {
          "data": {
            "application/vnd.jupyter.widget-view+json": {
              "model_id": "e97a02db7015445e9896cc7a8130ccb8",
              "version_major": 2,
              "version_minor": 0
            },
            "text/plain": [
              "FloatText(value=0.0, description='Please enter the fixed monthly payment:')"
            ]
          },
          "metadata": {},
          "output_type": "display_data"
        },
        {
          "data": {
            "application/vnd.jupyter.widget-view+json": {
              "model_id": "ace503b315814677a2339f32b5f9f1a4",
              "version_major": 2,
              "version_minor": 0
            },
            "text/plain": [
              "Button(description='Pay monthly dues.', style=ButtonStyle())"
            ]
          },
          "metadata": {},
          "output_type": "display_data"
        },
        {
          "data": {
            "application/vnd.jupyter.widget-view+json": {
              "model_id": "9364590dc56c44a4806374658cabe5cc",
              "version_major": 2,
              "version_minor": 0
            },
            "text/plain": [
              "Output()"
            ]
          },
          "metadata": {},
          "output_type": "display_data"
        }
      ],
      "source": [
        "import ipywidgets as widgets\n",
        "from IPython.display import display, clear_output\n",
        "\n",
        "initial_loan = widgets.FloatText(description=\"Please enter initial loan amount:\")\n",
        "monthly_payment = widgets.FloatText(description=\"Please enter the fixed monthly payment:\")\n",
        "payment_button = widgets.Button(description=\"Pay monthly dues.\")\n",
        "\n",
        "output = widgets.Output()\n",
        "\n",
        "def loan_balance_payment(b):\n",
        "  with output:\n",
        "    clear_output()\n",
        "\n",
        "    balance = initial_loan.value\n",
        "    payment = monthly_payment.value\n",
        "    month = 1\n",
        "\n",
        "    while balance > 0:\n",
        "      balance -= payment\n",
        "\n",
        "      print(f\"After {month} months the total balance left after deducting {payment} is {balance}\")\n",
        "      month += 1\n",
        "\n",
        "payment_button.on_click(loan_balance_payment)\n",
        "\n",
        "display(initial_loan, monthly_payment, payment_button, output)"
      ]
    },
    {
      "cell_type": "markdown",
      "metadata": {
        "id": "3V72WRTcKc17"
      },
      "source": [
        "\n",
        "## **🟢 Part 4: Stock Price Monitoring and Trading Strategy [4 marks]**  \n",
        "\n",
        "📌 **Requirement:**  \n",
        "A stock trader wants to **track stock prices daily** and **sell when the price reaches PKR 200**. The system should:  \n",
        "✔ Iterate through a **list of stock prices**.  \n",
        "✔ **Skip missing stock data** (`None` values).  \n",
        "✔ Stop tracking **once the price reaches PKR 200**.  \n",
        "\n",
        "### **Implementation Steps:**  \n",
        "🔹 **Step 1:** Handle missing stock data using `continue`.  \n",
        "🔹 **Step 2:** Stop tracking once the stock hits the target price (`break`).  \n",
        "🔹 **Step 3:** Write a Python program using **ipywidgets** to **process stock prices interactively** and trigger alerts when conditions are met.\n",
        "\n",
        "---"
      ]
    },
    {
      "cell_type": "code",
      "execution_count": null,
      "metadata": {
        "colab": {
          "base_uri": "https://localhost:8080/",
          "height": 203,
          "referenced_widgets": [
            "a6537a975cf64aa28479eba456d4922c",
            "869abdbb7497405fafa5e618a981bc40",
            "3e923f2e4d1a436e99fca18a6eda2d94",
            "fbf53aab9941498ab5a7dded62af79a1",
            "c4bd0f8a3d9b48f7819be287804be74d",
            "43271fe261f0439d8989eec2e36adb9a",
            "8fd7f3e659934b3ea1305b193e73dc72",
            "2c1b42ea407942208e35689afb1f8d06"
          ]
        },
        "id": "G4v6qt6GKwFN",
        "outputId": "2c0ad8f0-6e7c-4449-e2e1-cc3fa37d347c"
      },
      "outputs": [
        {
          "data": {
            "application/vnd.jupyter.widget-view+json": {
              "model_id": "a6537a975cf64aa28479eba456d4922c",
              "version_major": 2,
              "version_minor": 0
            },
            "text/plain": [
              "Text(value='', description='Stock Prices:', placeholder='Please enter daily stock prices as (1, 2, 3, 4)')"
            ]
          },
          "metadata": {},
          "output_type": "display_data"
        },
        {
          "data": {
            "application/vnd.jupyter.widget-view+json": {
              "model_id": "fbf53aab9941498ab5a7dded62af79a1",
              "version_major": 2,
              "version_minor": 0
            },
            "text/plain": [
              "Button(description='Magic button :)', style=ButtonStyle())"
            ]
          },
          "metadata": {},
          "output_type": "display_data"
        },
        {
          "data": {
            "application/vnd.jupyter.widget-view+json": {
              "model_id": "8fd7f3e659934b3ea1305b193e73dc72",
              "version_major": 2,
              "version_minor": 0
            },
            "text/plain": [
              "Output()"
            ]
          },
          "metadata": {},
          "output_type": "display_data"
        }
      ],
      "source": [
        "import ipywidgets as widgets\n",
        "from IPython.display import display, clear_output\n",
        "\n",
        "stock_prices = widgets.Text(\n",
        "    placeholder=\"Please enter daily stock prices as (1, 2, 3, 4)\",\n",
        "    description = \"Stock Prices:\",\n",
        ")\n",
        "\n",
        "run_button = widgets.Button(description = \"Magic button :)\")\n",
        "output = widgets.Output()\n",
        "\n",
        "def check_stock_prices(b):\n",
        "  with output:\n",
        "    clear_output()\n",
        "    prices = [float(x.strip()) if x.strip().lower() != 'none' else None for x in stock_prices.value.split(',')]\n",
        "\n",
        "    for i, price in enumerate(prices):\n",
        "      if price is None:\n",
        "        continue\n",
        "\n",
        "      print(f\"Day {i+1} stock price is ${price}\")\n",
        "\n",
        "      if price >= 200:\n",
        "        print(\"Sell!!!!, price reached 200\")\n",
        "        break\n",
        "\n",
        "run_button.on_click(check_stock_prices )\n",
        "\n",
        "display(stock_prices, run_button, output)"
      ]
    },
    {
      "cell_type": "markdown",
      "metadata": {
        "id": "lD82JT7-KXqK"
      },
      "source": [
        "\n",
        "## **🟢 Part 5: Currency Exchange Rate Tracker [4 marks]**  \n",
        "\n",
        "📌 **Requirement:**  \n",
        "SecureBank provides **real-time currency exchange tracking**. The system should:  \n",
        "✔ Start at **PKR 290/USD**.  \n",
        "✔ Increase by **1 PKR per day** until it reaches **PKR 300/USD**.  \n",
        "✔ Print exchange rates daily and stop when the **target rate is reached**.  \n",
        "\n",
        "### **Implementation Steps:**  \n",
        "🔹 **Step 1:** Choose a suitable loop (`for` or `while`).  \n",
        "🔹 **Step 2:** Stop the loop when the exchange rate reaches the target.  \n",
        "🔹 **Step 3:** Implement a Python program using **ipywidgets** to **track the currency exchange rate interactively**.\n",
        "\n",
        "---"
      ]
    },
    {
      "cell_type": "code",
      "execution_count": 18,
      "metadata": {
        "colab": {
          "base_uri": "https://localhost:8080/",
          "height": 263,
          "referenced_widgets": [
            "3a34662930e84ee0bfa601cf3ff245bb",
            "5318b05d39a042d1bd6cebf2925b78e2",
            "0b1c291243744abebaaf990217a540be",
            "5b434fc740a54436b3a4d2808499dbb0",
            "4838914461fa4ae29618eb1fe361c349"
          ]
        },
        "id": "3xiDWiabKwfr",
        "outputId": "95e29a0b-4e1f-4251-fa12-cb63fe202c73"
      },
      "outputs": [
        {
          "output_type": "display_data",
          "data": {
            "text/plain": [
              "Button(description='Start Button :)', style=ButtonStyle())"
            ],
            "application/vnd.jupyter.widget-view+json": {
              "version_major": 2,
              "version_minor": 0,
              "model_id": "3a34662930e84ee0bfa601cf3ff245bb"
            }
          },
          "metadata": {}
        },
        {
          "output_type": "display_data",
          "data": {
            "text/plain": [
              "Output()"
            ],
            "application/vnd.jupyter.widget-view+json": {
              "version_major": 2,
              "version_minor": 0,
              "model_id": "5b434fc740a54436b3a4d2808499dbb0"
            }
          },
          "metadata": {}
        }
      ],
      "source": [
        "import ipywidgets as widgets\n",
        "from IPython.display import display, clear_output\n",
        "\n",
        "track_button = widgets.Button(description=\"Start Button :)\")\n",
        "output = widgets.Output()\n",
        "\n",
        "def exchange_rate_tracking(b):\n",
        "  with output:\n",
        "    clear_output()\n",
        "    exchange_rate_now = 290\n",
        "    exchange_rate_final = 300\n",
        "\n",
        "    day = 1\n",
        "    while exchange_rate_now <= exchange_rate_final:\n",
        "      print(f\"The exchange rate at day {day} is {exchange_rate_now}\")\n",
        "      if exchange_rate_now == exchange_rate_final:\n",
        "        print(f\"Target reacher!!! Exchange rate is {exchange_rate_now}\")\n",
        "        break\n",
        "\n",
        "      exchange_rate_now+=1\n",
        "      day+=1\n",
        "\n",
        "track_button.on_click(exchange_rate_tracking)\n",
        "\n",
        "display(track_button, output)"
      ]
    },
    {
      "cell_type": "markdown",
      "metadata": {
        "id": "-gpSKR0APnLP"
      },
      "source": [
        "*   \n",
        "*\n",
        "*   \n",
        "*   \n",
        "*   \n",
        "*\n",
        "*   \n",
        "*"
      ]
    },
    {
      "cell_type": "markdown",
      "metadata": {
        "id": "hUFnFKjmKxeH"
      },
      "source": [
        "\n",
        "\n",
        "---\n",
        "\n",
        "\n",
        "======================================== *to err is human* ========================================\n",
        "\n",
        "\n",
        "---\n",
        "\n"
      ]
    },
    {
      "cell_type": "markdown",
      "metadata": {
        "id": "E2rlRDSuPPRt"
      },
      "source": [
        "*   \n",
        "*\n",
        "*   \n",
        "*   \n",
        "*   \n",
        "*\n",
        "*   \n",
        "*\n",
        "\n",
        "---\n",
        "\n",
        "## **🎯 Grading Rubric (20 Marks)**  \n",
        "\n",
        "| **Criteria**           | **🌟 Excellent (4 Marks)** | **✅ Good (3 Marks)** | **⚠️ Satisfactory (2 Marks)** | **❌ Needs Improvement (1 Mark)** | **🚫 No Attempt (0 Marks)** |\n",
        "|------------------------|-----------------------|------------------|----------------------|----------------------|----------------------|\n",
        "| **📝 Loan Eligibility System**  | ✅ Correct logic with `ipywidgets`, handles user input well. | ⚠️ Mostly correct logic, minor issues. | ❌ Basic logic but missing conditions. | 🚫 Major errors in implementation. | ❌ No implementation. |\n",
        "| **📊 Investment Risk Assessment**  | ✅ Efficient looping with correct risk classification and `ipywidgets`. | ⚠️ Minor issues in logic or implementation. | ❌ Some conditions missing, basic implementation. | 🚫 Incorrect or incomplete logic. | ❌ No implementation. |\n",
        "| **💰 Loan Repayment Tracker**  | ✅ Tracks repayment correctly, interactive using `ipywidgets`. | ⚠️ Correct logic but missing interactivity. | ❌ Loop present but some logic missing. | 🚫 Incorrect approach. | ❌ No implementation. |\n",
        "| **📈 Stock Price Monitoring**  | ✅ Proper use of `continue` and `break`, handles missing values. | ⚠️ Minor logic issues, mostly correct. | ❌ Some conditions missing, partially correct. | 🚫 Incorrect logic, missing key elements. | ❌ No implementation. |\n",
        "| **💹 Currency Exchange Tracker**  | ✅ Correct loop, stops at target rate, structured well with `ipywidgets`. | ⚠️ Mostly correct, minor inefficiencies. | ❌ Incorrect stopping condition, basic implementation. | 🚫 Incorrect approach. | ❌ No implementation. |\n",
        "| **📜 Code Quality & Structure**  | ✅ Well-commented, clean code, follows best practices. | ⚠️ Mostly structured but needs better readability. | ❌ Works but lacks clarity. | 🚫 Unstructured, lacks comments. | ❌ No code present. |\n",
        "| **🎛️ Use of `ipywidgets`** | ✅ Used effectively in all parts, enhances interactivity. | ⚠️ Used in most parts but minor inefficiencies. | ❌ Implemented but not fully functional. | 🚫 Attempted but not used correctly. | ❌ No implementation. |\n",
        "| **📂 GitHub Submission & Documentation** | ✅ Well-structured repo, proper `README.md`. | ⚠️ Repo exists but lacks structured documentation. | ❌ Basic submission, missing details. | 🚫 Attempted but incomplete. | ❌ No submission. |\n",
        "| **📤 Google Classroom Submission** | ✅ Submitted correctly with all required elements. | ⚠️ Submitted but missing minor details. | ❌ Late submission or incomplete. | 🚫 Attempted but missing key parts. | ❌ No submission. |\n",
        "| **🔎 Overall Implementation & Accuracy** | ✅ All features implemented correctly, runs smoothly. | ⚠️ Most features implemented, minor issues. | ❌ Some features missing but basic functionality works. | 🚫 Major features missing. | ❌ No implementation. |\n",
        "\n",
        "---\n",
        "\n"
      ]
    },
    {
      "cell_type": "markdown",
      "metadata": {
        "id": "-_kwwSB6PiZp"
      },
      "source": [
        "*Follow the deadline. This is an individual assignment. Do not copy/paste from LLMs or from other students.*"
      ]
    }
  ],
  "metadata": {
    "colab": {
      "provenance": []
    },
    "kernelspec": {
      "display_name": "Python 3",
      "name": "python3"
    },
    "language_info": {
      "name": "python"
    },
    "widgets": {
      "application/vnd.jupyter.widget-state+json": {
        "137eec6c56a0457783ac9f5f6a19e582": {
          "model_module": "@jupyter-widgets/controls",
          "model_module_version": "1.5.0",
          "model_name": "DescriptionStyleModel",
          "state": {
            "_model_module": "@jupyter-widgets/controls",
            "_model_module_version": "1.5.0",
            "_model_name": "DescriptionStyleModel",
            "_view_count": null,
            "_view_module": "@jupyter-widgets/base",
            "_view_module_version": "1.2.0",
            "_view_name": "StyleView",
            "description_width": ""
          }
        },
        "20c441e7937848a28b9fa67ea6fd571e": {
          "model_module": "@jupyter-widgets/output",
          "model_module_version": "1.0.0",
          "model_name": "OutputModel",
          "state": {
            "_dom_classes": [],
            "_model_module": "@jupyter-widgets/output",
            "_model_module_version": "1.0.0",
            "_model_name": "OutputModel",
            "_view_count": null,
            "_view_module": "@jupyter-widgets/output",
            "_view_module_version": "1.0.0",
            "_view_name": "OutputView",
            "layout": "IPY_MODEL_ac21365dd7a6461a9f9fa976f7be4164",
            "msg_id": "",
            "outputs": [
              {
                "name": "stdout",
                "output_type": "stream",
                "text": [
                  "Low risk due to all returns being higher than 5%\n"
                ]
              }
            ]
          }
        },
        "2c1b42ea407942208e35689afb1f8d06": {
          "model_module": "@jupyter-widgets/base",
          "model_module_version": "1.2.0",
          "model_name": "LayoutModel",
          "state": {
            "_model_module": "@jupyter-widgets/base",
            "_model_module_version": "1.2.0",
            "_model_name": "LayoutModel",
            "_view_count": null,
            "_view_module": "@jupyter-widgets/base",
            "_view_module_version": "1.2.0",
            "_view_name": "LayoutView",
            "align_content": null,
            "align_items": null,
            "align_self": null,
            "border": null,
            "bottom": null,
            "display": null,
            "flex": null,
            "flex_flow": null,
            "grid_area": null,
            "grid_auto_columns": null,
            "grid_auto_flow": null,
            "grid_auto_rows": null,
            "grid_column": null,
            "grid_gap": null,
            "grid_row": null,
            "grid_template_areas": null,
            "grid_template_columns": null,
            "grid_template_rows": null,
            "height": null,
            "justify_content": null,
            "justify_items": null,
            "left": null,
            "margin": null,
            "max_height": null,
            "max_width": null,
            "min_height": null,
            "min_width": null,
            "object_fit": null,
            "object_position": null,
            "order": null,
            "overflow": null,
            "overflow_x": null,
            "overflow_y": null,
            "padding": null,
            "right": null,
            "top": null,
            "visibility": null,
            "width": null
          }
        },
        "316da89d120847ada87eafd156c9ccd1": {
          "model_module": "@jupyter-widgets/controls",
          "model_module_version": "1.5.0",
          "model_name": "DropdownModel",
          "state": {
            "_dom_classes": [],
            "_model_module": "@jupyter-widgets/controls",
            "_model_module_version": "1.5.0",
            "_model_name": "DropdownModel",
            "_options_labels": [
              "Employed",
              "Unemployed"
            ],
            "_view_count": null,
            "_view_module": "@jupyter-widgets/controls",
            "_view_module_version": "1.5.0",
            "_view_name": "DropdownView",
            "description": "Employment:",
            "description_tooltip": null,
            "disabled": false,
            "index": 0,
            "layout": "IPY_MODEL_d0c8e32397ae407aaca4479394ee0a30",
            "style": "IPY_MODEL_137eec6c56a0457783ac9f5f6a19e582"
          }
        },
        "3e90d8f83dbd4d599eaaba7462eb9c11": {
          "model_module": "@jupyter-widgets/controls",
          "model_module_version": "1.5.0",
          "model_name": "DescriptionStyleModel",
          "state": {
            "_model_module": "@jupyter-widgets/controls",
            "_model_module_version": "1.5.0",
            "_model_name": "DescriptionStyleModel",
            "_view_count": null,
            "_view_module": "@jupyter-widgets/base",
            "_view_module_version": "1.2.0",
            "_view_name": "StyleView",
            "description_width": ""
          }
        },
        "3e923f2e4d1a436e99fca18a6eda2d94": {
          "model_module": "@jupyter-widgets/controls",
          "model_module_version": "1.5.0",
          "model_name": "DescriptionStyleModel",
          "state": {
            "_model_module": "@jupyter-widgets/controls",
            "_model_module_version": "1.5.0",
            "_model_name": "DescriptionStyleModel",
            "_view_count": null,
            "_view_module": "@jupyter-widgets/base",
            "_view_module_version": "1.2.0",
            "_view_name": "StyleView",
            "description_width": ""
          }
        },
        "43271fe261f0439d8989eec2e36adb9a": {
          "model_module": "@jupyter-widgets/controls",
          "model_module_version": "1.5.0",
          "model_name": "ButtonStyleModel",
          "state": {
            "_model_module": "@jupyter-widgets/controls",
            "_model_module_version": "1.5.0",
            "_model_name": "ButtonStyleModel",
            "_view_count": null,
            "_view_module": "@jupyter-widgets/base",
            "_view_module_version": "1.2.0",
            "_view_name": "StyleView",
            "button_color": null,
            "font_weight": ""
          }
        },
        "4d9678ddd2ef4898ac8c039fd88b830a": {
          "model_module": "@jupyter-widgets/controls",
          "model_module_version": "1.5.0",
          "model_name": "FloatTextModel",
          "state": {
            "_dom_classes": [],
            "_model_module": "@jupyter-widgets/controls",
            "_model_module_version": "1.5.0",
            "_model_name": "FloatTextModel",
            "_view_count": null,
            "_view_module": "@jupyter-widgets/controls",
            "_view_module_version": "1.5.0",
            "_view_name": "FloatTextView",
            "continuous_update": false,
            "description": "Income:",
            "description_tooltip": null,
            "disabled": false,
            "layout": "IPY_MODEL_522d960bc939428590b8fde914a8c624",
            "step": null,
            "style": "IPY_MODEL_fba8f9abb8424db8b4e0482db023ba9f",
            "value": 0
          }
        },
        "522d960bc939428590b8fde914a8c624": {
          "model_module": "@jupyter-widgets/base",
          "model_module_version": "1.2.0",
          "model_name": "LayoutModel",
          "state": {
            "_model_module": "@jupyter-widgets/base",
            "_model_module_version": "1.2.0",
            "_model_name": "LayoutModel",
            "_view_count": null,
            "_view_module": "@jupyter-widgets/base",
            "_view_module_version": "1.2.0",
            "_view_name": "LayoutView",
            "align_content": null,
            "align_items": null,
            "align_self": null,
            "border": null,
            "bottom": null,
            "display": null,
            "flex": null,
            "flex_flow": null,
            "grid_area": null,
            "grid_auto_columns": null,
            "grid_auto_flow": null,
            "grid_auto_rows": null,
            "grid_column": null,
            "grid_gap": null,
            "grid_row": null,
            "grid_template_areas": null,
            "grid_template_columns": null,
            "grid_template_rows": null,
            "height": null,
            "justify_content": null,
            "justify_items": null,
            "left": null,
            "margin": null,
            "max_height": null,
            "max_width": null,
            "min_height": null,
            "min_width": null,
            "object_fit": null,
            "object_position": null,
            "order": null,
            "overflow": null,
            "overflow_x": null,
            "overflow_y": null,
            "padding": null,
            "right": null,
            "top": null,
            "visibility": null,
            "width": null
          }
        },
        "5ccb4f57810c4ef7a004f0167894f83d": {
          "model_module": "@jupyter-widgets/output",
          "model_module_version": "1.0.0",
          "model_name": "OutputModel",
          "state": {
            "_dom_classes": [],
            "_model_module": "@jupyter-widgets/output",
            "_model_module_version": "1.0.0",
            "_model_name": "OutputModel",
            "_view_count": null,
            "_view_module": "@jupyter-widgets/output",
            "_view_module_version": "1.0.0",
            "_view_name": "OutputView",
            "layout": "IPY_MODEL_84143bdd58be4614b48305439240196f",
            "msg_id": "",
            "outputs": []
          }
        },
        "61eba067290e4ad394156fd42cc911d7": {
          "model_module": "@jupyter-widgets/controls",
          "model_module_version": "1.5.0",
          "model_name": "FloatTextModel",
          "state": {
            "_dom_classes": [],
            "_model_module": "@jupyter-widgets/controls",
            "_model_module_version": "1.5.0",
            "_model_name": "FloatTextModel",
            "_view_count": null,
            "_view_module": "@jupyter-widgets/controls",
            "_view_module_version": "1.5.0",
            "_view_name": "FloatTextView",
            "continuous_update": false,
            "description": "Please enter initial loan amount:",
            "description_tooltip": null,
            "disabled": false,
            "layout": "IPY_MODEL_aea316c1423f479b8efb3fd5543e3531",
            "step": null,
            "style": "IPY_MODEL_df6c5d4f0b5b46bbb2f3e0f1be4f7ccc",
            "value": 100000
          }
        },
        "731629398d8e468a94dc147fa0393c71": {
          "model_module": "@jupyter-widgets/base",
          "model_module_version": "1.2.0",
          "model_name": "LayoutModel",
          "state": {
            "_model_module": "@jupyter-widgets/base",
            "_model_module_version": "1.2.0",
            "_model_name": "LayoutModel",
            "_view_count": null,
            "_view_module": "@jupyter-widgets/base",
            "_view_module_version": "1.2.0",
            "_view_name": "LayoutView",
            "align_content": null,
            "align_items": null,
            "align_self": null,
            "border": null,
            "bottom": null,
            "display": null,
            "flex": null,
            "flex_flow": null,
            "grid_area": null,
            "grid_auto_columns": null,
            "grid_auto_flow": null,
            "grid_auto_rows": null,
            "grid_column": null,
            "grid_gap": null,
            "grid_row": null,
            "grid_template_areas": null,
            "grid_template_columns": null,
            "grid_template_rows": null,
            "height": null,
            "justify_content": null,
            "justify_items": null,
            "left": null,
            "margin": null,
            "max_height": null,
            "max_width": null,
            "min_height": null,
            "min_width": null,
            "object_fit": null,
            "object_position": null,
            "order": null,
            "overflow": null,
            "overflow_x": null,
            "overflow_y": null,
            "padding": null,
            "right": null,
            "top": null,
            "visibility": null,
            "width": null
          }
        },
        "73863fd4e9a7491884cf2b5ca79f263b": {
          "model_module": "@jupyter-widgets/base",
          "model_module_version": "1.2.0",
          "model_name": "LayoutModel",
          "state": {
            "_model_module": "@jupyter-widgets/base",
            "_model_module_version": "1.2.0",
            "_model_name": "LayoutModel",
            "_view_count": null,
            "_view_module": "@jupyter-widgets/base",
            "_view_module_version": "1.2.0",
            "_view_name": "LayoutView",
            "align_content": null,
            "align_items": null,
            "align_self": null,
            "border": null,
            "bottom": null,
            "display": null,
            "flex": null,
            "flex_flow": null,
            "grid_area": null,
            "grid_auto_columns": null,
            "grid_auto_flow": null,
            "grid_auto_rows": null,
            "grid_column": null,
            "grid_gap": null,
            "grid_row": null,
            "grid_template_areas": null,
            "grid_template_columns": null,
            "grid_template_rows": null,
            "height": null,
            "justify_content": null,
            "justify_items": null,
            "left": null,
            "margin": null,
            "max_height": null,
            "max_width": null,
            "min_height": null,
            "min_width": null,
            "object_fit": null,
            "object_position": null,
            "order": null,
            "overflow": null,
            "overflow_x": null,
            "overflow_y": null,
            "padding": null,
            "right": null,
            "top": null,
            "visibility": null,
            "width": null
          }
        },
        "837d846f0a6a4c0abf6004342e2d2719": {
          "model_module": "@jupyter-widgets/controls",
          "model_module_version": "1.5.0",
          "model_name": "ButtonStyleModel",
          "state": {
            "_model_module": "@jupyter-widgets/controls",
            "_model_module_version": "1.5.0",
            "_model_name": "ButtonStyleModel",
            "_view_count": null,
            "_view_module": "@jupyter-widgets/base",
            "_view_module_version": "1.2.0",
            "_view_name": "StyleView",
            "button_color": null,
            "font_weight": ""
          }
        },
        "84143bdd58be4614b48305439240196f": {
          "model_module": "@jupyter-widgets/base",
          "model_module_version": "1.2.0",
          "model_name": "LayoutModel",
          "state": {
            "_model_module": "@jupyter-widgets/base",
            "_model_module_version": "1.2.0",
            "_model_name": "LayoutModel",
            "_view_count": null,
            "_view_module": "@jupyter-widgets/base",
            "_view_module_version": "1.2.0",
            "_view_name": "LayoutView",
            "align_content": null,
            "align_items": null,
            "align_self": null,
            "border": null,
            "bottom": null,
            "display": null,
            "flex": null,
            "flex_flow": null,
            "grid_area": null,
            "grid_auto_columns": null,
            "grid_auto_flow": null,
            "grid_auto_rows": null,
            "grid_column": null,
            "grid_gap": null,
            "grid_row": null,
            "grid_template_areas": null,
            "grid_template_columns": null,
            "grid_template_rows": null,
            "height": null,
            "justify_content": null,
            "justify_items": null,
            "left": null,
            "margin": null,
            "max_height": null,
            "max_width": null,
            "min_height": null,
            "min_width": null,
            "object_fit": null,
            "object_position": null,
            "order": null,
            "overflow": null,
            "overflow_x": null,
            "overflow_y": null,
            "padding": null,
            "right": null,
            "top": null,
            "visibility": null,
            "width": null
          }
        },
        "869abdbb7497405fafa5e618a981bc40": {
          "model_module": "@jupyter-widgets/base",
          "model_module_version": "1.2.0",
          "model_name": "LayoutModel",
          "state": {
            "_model_module": "@jupyter-widgets/base",
            "_model_module_version": "1.2.0",
            "_model_name": "LayoutModel",
            "_view_count": null,
            "_view_module": "@jupyter-widgets/base",
            "_view_module_version": "1.2.0",
            "_view_name": "LayoutView",
            "align_content": null,
            "align_items": null,
            "align_self": null,
            "border": null,
            "bottom": null,
            "display": null,
            "flex": null,
            "flex_flow": null,
            "grid_area": null,
            "grid_auto_columns": null,
            "grid_auto_flow": null,
            "grid_auto_rows": null,
            "grid_column": null,
            "grid_gap": null,
            "grid_row": null,
            "grid_template_areas": null,
            "grid_template_columns": null,
            "grid_template_rows": null,
            "height": null,
            "justify_content": null,
            "justify_items": null,
            "left": null,
            "margin": null,
            "max_height": null,
            "max_width": null,
            "min_height": null,
            "min_width": null,
            "object_fit": null,
            "object_position": null,
            "order": null,
            "overflow": null,
            "overflow_x": null,
            "overflow_y": null,
            "padding": null,
            "right": null,
            "top": null,
            "visibility": null,
            "width": null
          }
        },
        "873a43837ff7442f95475d8ad1a5158d": {
          "model_module": "@jupyter-widgets/controls",
          "model_module_version": "1.5.0",
          "model_name": "ButtonStyleModel",
          "state": {
            "_model_module": "@jupyter-widgets/controls",
            "_model_module_version": "1.5.0",
            "_model_name": "ButtonStyleModel",
            "_view_count": null,
            "_view_module": "@jupyter-widgets/base",
            "_view_module_version": "1.2.0",
            "_view_name": "StyleView",
            "button_color": null,
            "font_weight": ""
          }
        },
        "8cc770e3887b4a4f98806d87f6b778d7": {
          "model_module": "@jupyter-widgets/controls",
          "model_module_version": "1.5.0",
          "model_name": "IntTextModel",
          "state": {
            "_dom_classes": [],
            "_model_module": "@jupyter-widgets/controls",
            "_model_module_version": "1.5.0",
            "_model_name": "IntTextModel",
            "_view_count": null,
            "_view_module": "@jupyter-widgets/controls",
            "_view_module_version": "1.5.0",
            "_view_name": "IntTextView",
            "continuous_update": false,
            "description": "Credit Score:",
            "description_tooltip": null,
            "disabled": false,
            "layout": "IPY_MODEL_a05b5ee955a4410cb65f898cc5cebc2f",
            "step": 1,
            "style": "IPY_MODEL_f5dada985abb472e9f051b4f9e459b71",
            "value": 0
          }
        },
        "8fd7f3e659934b3ea1305b193e73dc72": {
          "model_module": "@jupyter-widgets/output",
          "model_module_version": "1.0.0",
          "model_name": "OutputModel",
          "state": {
            "_dom_classes": [],
            "_model_module": "@jupyter-widgets/output",
            "_model_module_version": "1.0.0",
            "_model_name": "OutputModel",
            "_view_count": null,
            "_view_module": "@jupyter-widgets/output",
            "_view_module_version": "1.0.0",
            "_view_name": "OutputView",
            "layout": "IPY_MODEL_2c1b42ea407942208e35689afb1f8d06",
            "msg_id": "",
            "outputs": [
              {
                "name": "stdout",
                "output_type": "stream",
                "text": [
                  "Day 1 stock price is $10.0\n",
                  "Day 2 stock price is $11.0\n",
                  "Day 3 stock price is $12.0\n",
                  "Day 4 stock price is $60.0\n",
                  "Day 6 stock price is $50.0\n",
                  "Day 8 stock price is $200.0\n",
                  "Sell!!!!, price reached 200\n"
                ]
              }
            ]
          }
        },
        "9364590dc56c44a4806374658cabe5cc": {
          "model_module": "@jupyter-widgets/output",
          "model_module_version": "1.0.0",
          "model_name": "OutputModel",
          "state": {
            "_dom_classes": [],
            "_model_module": "@jupyter-widgets/output",
            "_model_module_version": "1.0.0",
            "_model_name": "OutputModel",
            "_view_count": null,
            "_view_module": "@jupyter-widgets/output",
            "_view_module_version": "1.0.0",
            "_view_name": "OutputView",
            "layout": "IPY_MODEL_731629398d8e468a94dc147fa0393c71",
            "msg_id": "",
            "outputs": [
              {
                "name": "stdout",
                "output_type": "stream",
                "text": [
                  "After 1 months the total balance left after deducting 10000.0 is 90000.0\n",
                  "After 2 months the total balance left after deducting 10000.0 is 80000.0\n",
                  "After 3 months the total balance left after deducting 10000.0 is 70000.0\n",
                  "After 4 months the total balance left after deducting 10000.0 is 60000.0\n",
                  "After 5 months the total balance left after deducting 10000.0 is 50000.0\n",
                  "After 6 months the total balance left after deducting 10000.0 is 40000.0\n",
                  "After 7 months the total balance left after deducting 10000.0 is 30000.0\n",
                  "After 8 months the total balance left after deducting 10000.0 is 20000.0\n",
                  "After 9 months the total balance left after deducting 10000.0 is 10000.0\n",
                  "After 10 months the total balance left after deducting 10000.0 is 0.0\n"
                ]
              }
            ]
          }
        },
        "9fa4deab071143f2b8949745060c9e1b": {
          "model_module": "@jupyter-widgets/controls",
          "model_module_version": "1.5.0",
          "model_name": "ButtonModel",
          "state": {
            "_dom_classes": [],
            "_model_module": "@jupyter-widgets/controls",
            "_model_module_version": "1.5.0",
            "_model_name": "ButtonModel",
            "_view_count": null,
            "_view_module": "@jupyter-widgets/controls",
            "_view_module_version": "1.5.0",
            "_view_name": "ButtonView",
            "button_style": "",
            "description": "Submit",
            "disabled": false,
            "icon": "",
            "layout": "IPY_MODEL_a86d41e7eefc4e87b30023bd315f686f",
            "style": "IPY_MODEL_ea7677873929496e8d38a1c271598e1b",
            "tooltip": ""
          }
        },
        "a05b5ee955a4410cb65f898cc5cebc2f": {
          "model_module": "@jupyter-widgets/base",
          "model_module_version": "1.2.0",
          "model_name": "LayoutModel",
          "state": {
            "_model_module": "@jupyter-widgets/base",
            "_model_module_version": "1.2.0",
            "_model_name": "LayoutModel",
            "_view_count": null,
            "_view_module": "@jupyter-widgets/base",
            "_view_module_version": "1.2.0",
            "_view_name": "LayoutView",
            "align_content": null,
            "align_items": null,
            "align_self": null,
            "border": null,
            "bottom": null,
            "display": null,
            "flex": null,
            "flex_flow": null,
            "grid_area": null,
            "grid_auto_columns": null,
            "grid_auto_flow": null,
            "grid_auto_rows": null,
            "grid_column": null,
            "grid_gap": null,
            "grid_row": null,
            "grid_template_areas": null,
            "grid_template_columns": null,
            "grid_template_rows": null,
            "height": null,
            "justify_content": null,
            "justify_items": null,
            "left": null,
            "margin": null,
            "max_height": null,
            "max_width": null,
            "min_height": null,
            "min_width": null,
            "object_fit": null,
            "object_position": null,
            "order": null,
            "overflow": null,
            "overflow_x": null,
            "overflow_y": null,
            "padding": null,
            "right": null,
            "top": null,
            "visibility": null,
            "width": null
          }
        },
        "a6537a975cf64aa28479eba456d4922c": {
          "model_module": "@jupyter-widgets/controls",
          "model_module_version": "1.5.0",
          "model_name": "TextModel",
          "state": {
            "_dom_classes": [],
            "_model_module": "@jupyter-widgets/controls",
            "_model_module_version": "1.5.0",
            "_model_name": "TextModel",
            "_view_count": null,
            "_view_module": "@jupyter-widgets/controls",
            "_view_module_version": "1.5.0",
            "_view_name": "TextView",
            "continuous_update": true,
            "description": "Stock Prices:",
            "description_tooltip": null,
            "disabled": false,
            "layout": "IPY_MODEL_869abdbb7497405fafa5e618a981bc40",
            "placeholder": "Please enter daily stock prices as (1, 2, 3, 4)",
            "style": "IPY_MODEL_3e923f2e4d1a436e99fca18a6eda2d94",
            "value": "10, 11, 12, 60, None, 50, none, 200"
          }
        },
        "a86d41e7eefc4e87b30023bd315f686f": {
          "model_module": "@jupyter-widgets/base",
          "model_module_version": "1.2.0",
          "model_name": "LayoutModel",
          "state": {
            "_model_module": "@jupyter-widgets/base",
            "_model_module_version": "1.2.0",
            "_model_name": "LayoutModel",
            "_view_count": null,
            "_view_module": "@jupyter-widgets/base",
            "_view_module_version": "1.2.0",
            "_view_name": "LayoutView",
            "align_content": null,
            "align_items": null,
            "align_self": null,
            "border": null,
            "bottom": null,
            "display": null,
            "flex": null,
            "flex_flow": null,
            "grid_area": null,
            "grid_auto_columns": null,
            "grid_auto_flow": null,
            "grid_auto_rows": null,
            "grid_column": null,
            "grid_gap": null,
            "grid_row": null,
            "grid_template_areas": null,
            "grid_template_columns": null,
            "grid_template_rows": null,
            "height": null,
            "justify_content": null,
            "justify_items": null,
            "left": null,
            "margin": null,
            "max_height": null,
            "max_width": null,
            "min_height": null,
            "min_width": null,
            "object_fit": null,
            "object_position": null,
            "order": null,
            "overflow": null,
            "overflow_x": null,
            "overflow_y": null,
            "padding": null,
            "right": null,
            "top": null,
            "visibility": null,
            "width": null
          }
        },
        "ac21365dd7a6461a9f9fa976f7be4164": {
          "model_module": "@jupyter-widgets/base",
          "model_module_version": "1.2.0",
          "model_name": "LayoutModel",
          "state": {
            "_model_module": "@jupyter-widgets/base",
            "_model_module_version": "1.2.0",
            "_model_name": "LayoutModel",
            "_view_count": null,
            "_view_module": "@jupyter-widgets/base",
            "_view_module_version": "1.2.0",
            "_view_name": "LayoutView",
            "align_content": null,
            "align_items": null,
            "align_self": null,
            "border": null,
            "bottom": null,
            "display": null,
            "flex": null,
            "flex_flow": null,
            "grid_area": null,
            "grid_auto_columns": null,
            "grid_auto_flow": null,
            "grid_auto_rows": null,
            "grid_column": null,
            "grid_gap": null,
            "grid_row": null,
            "grid_template_areas": null,
            "grid_template_columns": null,
            "grid_template_rows": null,
            "height": null,
            "justify_content": null,
            "justify_items": null,
            "left": null,
            "margin": null,
            "max_height": null,
            "max_width": null,
            "min_height": null,
            "min_width": null,
            "object_fit": null,
            "object_position": null,
            "order": null,
            "overflow": null,
            "overflow_x": null,
            "overflow_y": null,
            "padding": null,
            "right": null,
            "top": null,
            "visibility": null,
            "width": null
          }
        },
        "ace503b315814677a2339f32b5f9f1a4": {
          "model_module": "@jupyter-widgets/controls",
          "model_module_version": "1.5.0",
          "model_name": "ButtonModel",
          "state": {
            "_dom_classes": [],
            "_model_module": "@jupyter-widgets/controls",
            "_model_module_version": "1.5.0",
            "_model_name": "ButtonModel",
            "_view_count": null,
            "_view_module": "@jupyter-widgets/controls",
            "_view_module_version": "1.5.0",
            "_view_name": "ButtonView",
            "button_style": "",
            "description": "Pay monthly dues.",
            "disabled": false,
            "icon": "",
            "layout": "IPY_MODEL_b91479e2886c4d94bbfd14f63d7c238d",
            "style": "IPY_MODEL_873a43837ff7442f95475d8ad1a5158d",
            "tooltip": ""
          }
        },
        "aea316c1423f479b8efb3fd5543e3531": {
          "model_module": "@jupyter-widgets/base",
          "model_module_version": "1.2.0",
          "model_name": "LayoutModel",
          "state": {
            "_model_module": "@jupyter-widgets/base",
            "_model_module_version": "1.2.0",
            "_model_name": "LayoutModel",
            "_view_count": null,
            "_view_module": "@jupyter-widgets/base",
            "_view_module_version": "1.2.0",
            "_view_name": "LayoutView",
            "align_content": null,
            "align_items": null,
            "align_self": null,
            "border": null,
            "bottom": null,
            "display": null,
            "flex": null,
            "flex_flow": null,
            "grid_area": null,
            "grid_auto_columns": null,
            "grid_auto_flow": null,
            "grid_auto_rows": null,
            "grid_column": null,
            "grid_gap": null,
            "grid_row": null,
            "grid_template_areas": null,
            "grid_template_columns": null,
            "grid_template_rows": null,
            "height": null,
            "justify_content": null,
            "justify_items": null,
            "left": null,
            "margin": null,
            "max_height": null,
            "max_width": null,
            "min_height": null,
            "min_width": null,
            "object_fit": null,
            "object_position": null,
            "order": null,
            "overflow": null,
            "overflow_x": null,
            "overflow_y": null,
            "padding": null,
            "right": null,
            "top": null,
            "visibility": null,
            "width": null
          }
        },
        "b91479e2886c4d94bbfd14f63d7c238d": {
          "model_module": "@jupyter-widgets/base",
          "model_module_version": "1.2.0",
          "model_name": "LayoutModel",
          "state": {
            "_model_module": "@jupyter-widgets/base",
            "_model_module_version": "1.2.0",
            "_model_name": "LayoutModel",
            "_view_count": null,
            "_view_module": "@jupyter-widgets/base",
            "_view_module_version": "1.2.0",
            "_view_name": "LayoutView",
            "align_content": null,
            "align_items": null,
            "align_self": null,
            "border": null,
            "bottom": null,
            "display": null,
            "flex": null,
            "flex_flow": null,
            "grid_area": null,
            "grid_auto_columns": null,
            "grid_auto_flow": null,
            "grid_auto_rows": null,
            "grid_column": null,
            "grid_gap": null,
            "grid_row": null,
            "grid_template_areas": null,
            "grid_template_columns": null,
            "grid_template_rows": null,
            "height": null,
            "justify_content": null,
            "justify_items": null,
            "left": null,
            "margin": null,
            "max_height": null,
            "max_width": null,
            "min_height": null,
            "min_width": null,
            "object_fit": null,
            "object_position": null,
            "order": null,
            "overflow": null,
            "overflow_x": null,
            "overflow_y": null,
            "padding": null,
            "right": null,
            "top": null,
            "visibility": null,
            "width": null
          }
        },
        "bcca170fc34648d98342c44aacefc500": {
          "model_module": "@jupyter-widgets/controls",
          "model_module_version": "1.5.0",
          "model_name": "ButtonModel",
          "state": {
            "_dom_classes": [],
            "_model_module": "@jupyter-widgets/controls",
            "_model_module_version": "1.5.0",
            "_model_name": "ButtonModel",
            "_view_count": null,
            "_view_module": "@jupyter-widgets/controls",
            "_view_module_version": "1.5.0",
            "_view_name": "ButtonView",
            "button_style": "",
            "description": "Assess the returns",
            "disabled": false,
            "icon": "",
            "layout": "IPY_MODEL_fcc082b7a0f34ce08ea48c7ed335697b",
            "style": "IPY_MODEL_837d846f0a6a4c0abf6004342e2d2719",
            "tooltip": ""
          }
        },
        "c4bd0f8a3d9b48f7819be287804be74d": {
          "model_module": "@jupyter-widgets/base",
          "model_module_version": "1.2.0",
          "model_name": "LayoutModel",
          "state": {
            "_model_module": "@jupyter-widgets/base",
            "_model_module_version": "1.2.0",
            "_model_name": "LayoutModel",
            "_view_count": null,
            "_view_module": "@jupyter-widgets/base",
            "_view_module_version": "1.2.0",
            "_view_name": "LayoutView",
            "align_content": null,
            "align_items": null,
            "align_self": null,
            "border": null,
            "bottom": null,
            "display": null,
            "flex": null,
            "flex_flow": null,
            "grid_area": null,
            "grid_auto_columns": null,
            "grid_auto_flow": null,
            "grid_auto_rows": null,
            "grid_column": null,
            "grid_gap": null,
            "grid_row": null,
            "grid_template_areas": null,
            "grid_template_columns": null,
            "grid_template_rows": null,
            "height": null,
            "justify_content": null,
            "justify_items": null,
            "left": null,
            "margin": null,
            "max_height": null,
            "max_width": null,
            "min_height": null,
            "min_width": null,
            "object_fit": null,
            "object_position": null,
            "order": null,
            "overflow": null,
            "overflow_x": null,
            "overflow_y": null,
            "padding": null,
            "right": null,
            "top": null,
            "visibility": null,
            "width": null
          }
        },
        "c712f2a5d1bb4f54826a580f417b4630": {
          "model_module": "@jupyter-widgets/base",
          "model_module_version": "1.2.0",
          "model_name": "LayoutModel",
          "state": {
            "_model_module": "@jupyter-widgets/base",
            "_model_module_version": "1.2.0",
            "_model_name": "LayoutModel",
            "_view_count": null,
            "_view_module": "@jupyter-widgets/base",
            "_view_module_version": "1.2.0",
            "_view_name": "LayoutView",
            "align_content": null,
            "align_items": null,
            "align_self": null,
            "border": null,
            "bottom": null,
            "display": null,
            "flex": null,
            "flex_flow": null,
            "grid_area": null,
            "grid_auto_columns": null,
            "grid_auto_flow": null,
            "grid_auto_rows": null,
            "grid_column": null,
            "grid_gap": null,
            "grid_row": null,
            "grid_template_areas": null,
            "grid_template_columns": null,
            "grid_template_rows": null,
            "height": null,
            "justify_content": null,
            "justify_items": null,
            "left": null,
            "margin": null,
            "max_height": null,
            "max_width": null,
            "min_height": null,
            "min_width": null,
            "object_fit": null,
            "object_position": null,
            "order": null,
            "overflow": null,
            "overflow_x": null,
            "overflow_y": null,
            "padding": null,
            "right": null,
            "top": null,
            "visibility": null,
            "width": null
          }
        },
        "d0c8e32397ae407aaca4479394ee0a30": {
          "model_module": "@jupyter-widgets/base",
          "model_module_version": "1.2.0",
          "model_name": "LayoutModel",
          "state": {
            "_model_module": "@jupyter-widgets/base",
            "_model_module_version": "1.2.0",
            "_model_name": "LayoutModel",
            "_view_count": null,
            "_view_module": "@jupyter-widgets/base",
            "_view_module_version": "1.2.0",
            "_view_name": "LayoutView",
            "align_content": null,
            "align_items": null,
            "align_self": null,
            "border": null,
            "bottom": null,
            "display": null,
            "flex": null,
            "flex_flow": null,
            "grid_area": null,
            "grid_auto_columns": null,
            "grid_auto_flow": null,
            "grid_auto_rows": null,
            "grid_column": null,
            "grid_gap": null,
            "grid_row": null,
            "grid_template_areas": null,
            "grid_template_columns": null,
            "grid_template_rows": null,
            "height": null,
            "justify_content": null,
            "justify_items": null,
            "left": null,
            "margin": null,
            "max_height": null,
            "max_width": null,
            "min_height": null,
            "min_width": null,
            "object_fit": null,
            "object_position": null,
            "order": null,
            "overflow": null,
            "overflow_x": null,
            "overflow_y": null,
            "padding": null,
            "right": null,
            "top": null,
            "visibility": null,
            "width": null
          }
        },
        "df6c5d4f0b5b46bbb2f3e0f1be4f7ccc": {
          "model_module": "@jupyter-widgets/controls",
          "model_module_version": "1.5.0",
          "model_name": "DescriptionStyleModel",
          "state": {
            "_model_module": "@jupyter-widgets/controls",
            "_model_module_version": "1.5.0",
            "_model_name": "DescriptionStyleModel",
            "_view_count": null,
            "_view_module": "@jupyter-widgets/base",
            "_view_module_version": "1.2.0",
            "_view_name": "StyleView",
            "description_width": ""
          }
        },
        "e04ca11b89a54b5daf86bb887b2c6489": {
          "model_module": "@jupyter-widgets/controls",
          "model_module_version": "1.5.0",
          "model_name": "DescriptionStyleModel",
          "state": {
            "_model_module": "@jupyter-widgets/controls",
            "_model_module_version": "1.5.0",
            "_model_name": "DescriptionStyleModel",
            "_view_count": null,
            "_view_module": "@jupyter-widgets/base",
            "_view_module_version": "1.2.0",
            "_view_name": "StyleView",
            "description_width": ""
          }
        },
        "e81a5c703e6146b5a00e445e67a69951": {
          "model_module": "@jupyter-widgets/controls",
          "model_module_version": "1.5.0",
          "model_name": "TextModel",
          "state": {
            "_dom_classes": [],
            "_model_module": "@jupyter-widgets/controls",
            "_model_module_version": "1.5.0",
            "_model_name": "TextModel",
            "_view_count": null,
            "_view_module": "@jupyter-widgets/controls",
            "_view_module_version": "1.5.0",
            "_view_name": "TextView",
            "continuous_update": true,
            "description": "Returns:",
            "description_tooltip": null,
            "disabled": false,
            "layout": "IPY_MODEL_73863fd4e9a7491884cf2b5ca79f263b",
            "placeholder": "Enter Stock Returns (e.g., 10, 5, 3, 12)",
            "style": "IPY_MODEL_3e90d8f83dbd4d599eaaba7462eb9c11",
            "value": "10, 11, 9, 6, 8, 10"
          }
        },
        "e97a02db7015445e9896cc7a8130ccb8": {
          "model_module": "@jupyter-widgets/controls",
          "model_module_version": "1.5.0",
          "model_name": "FloatTextModel",
          "state": {
            "_dom_classes": [],
            "_model_module": "@jupyter-widgets/controls",
            "_model_module_version": "1.5.0",
            "_model_name": "FloatTextModel",
            "_view_count": null,
            "_view_module": "@jupyter-widgets/controls",
            "_view_module_version": "1.5.0",
            "_view_name": "FloatTextView",
            "continuous_update": false,
            "description": "Please enter the fixed monthly payment:",
            "description_tooltip": null,
            "disabled": false,
            "layout": "IPY_MODEL_c712f2a5d1bb4f54826a580f417b4630",
            "step": null,
            "style": "IPY_MODEL_e04ca11b89a54b5daf86bb887b2c6489",
            "value": 10000
          }
        },
        "ea7677873929496e8d38a1c271598e1b": {
          "model_module": "@jupyter-widgets/controls",
          "model_module_version": "1.5.0",
          "model_name": "ButtonStyleModel",
          "state": {
            "_model_module": "@jupyter-widgets/controls",
            "_model_module_version": "1.5.0",
            "_model_name": "ButtonStyleModel",
            "_view_count": null,
            "_view_module": "@jupyter-widgets/base",
            "_view_module_version": "1.2.0",
            "_view_name": "StyleView",
            "button_color": null,
            "font_weight": ""
          }
        },
        "f5dada985abb472e9f051b4f9e459b71": {
          "model_module": "@jupyter-widgets/controls",
          "model_module_version": "1.5.0",
          "model_name": "DescriptionStyleModel",
          "state": {
            "_model_module": "@jupyter-widgets/controls",
            "_model_module_version": "1.5.0",
            "_model_name": "DescriptionStyleModel",
            "_view_count": null,
            "_view_module": "@jupyter-widgets/base",
            "_view_module_version": "1.2.0",
            "_view_name": "StyleView",
            "description_width": ""
          }
        },
        "fba8f9abb8424db8b4e0482db023ba9f": {
          "model_module": "@jupyter-widgets/controls",
          "model_module_version": "1.5.0",
          "model_name": "DescriptionStyleModel",
          "state": {
            "_model_module": "@jupyter-widgets/controls",
            "_model_module_version": "1.5.0",
            "_model_name": "DescriptionStyleModel",
            "_view_count": null,
            "_view_module": "@jupyter-widgets/base",
            "_view_module_version": "1.2.0",
            "_view_name": "StyleView",
            "description_width": ""
          }
        },
        "fbf53aab9941498ab5a7dded62af79a1": {
          "model_module": "@jupyter-widgets/controls",
          "model_module_version": "1.5.0",
          "model_name": "ButtonModel",
          "state": {
            "_dom_classes": [],
            "_model_module": "@jupyter-widgets/controls",
            "_model_module_version": "1.5.0",
            "_model_name": "ButtonModel",
            "_view_count": null,
            "_view_module": "@jupyter-widgets/controls",
            "_view_module_version": "1.5.0",
            "_view_name": "ButtonView",
            "button_style": "",
            "description": "Magic button :)",
            "disabled": false,
            "icon": "",
            "layout": "IPY_MODEL_c4bd0f8a3d9b48f7819be287804be74d",
            "style": "IPY_MODEL_43271fe261f0439d8989eec2e36adb9a",
            "tooltip": ""
          }
        },
        "fcc082b7a0f34ce08ea48c7ed335697b": {
          "model_module": "@jupyter-widgets/base",
          "model_module_version": "1.2.0",
          "model_name": "LayoutModel",
          "state": {
            "_model_module": "@jupyter-widgets/base",
            "_model_module_version": "1.2.0",
            "_model_name": "LayoutModel",
            "_view_count": null,
            "_view_module": "@jupyter-widgets/base",
            "_view_module_version": "1.2.0",
            "_view_name": "LayoutView",
            "align_content": null,
            "align_items": null,
            "align_self": null,
            "border": null,
            "bottom": null,
            "display": null,
            "flex": null,
            "flex_flow": null,
            "grid_area": null,
            "grid_auto_columns": null,
            "grid_auto_flow": null,
            "grid_auto_rows": null,
            "grid_column": null,
            "grid_gap": null,
            "grid_row": null,
            "grid_template_areas": null,
            "grid_template_columns": null,
            "grid_template_rows": null,
            "height": null,
            "justify_content": null,
            "justify_items": null,
            "left": null,
            "margin": null,
            "max_height": null,
            "max_width": null,
            "min_height": null,
            "min_width": null,
            "object_fit": null,
            "object_position": null,
            "order": null,
            "overflow": null,
            "overflow_x": null,
            "overflow_y": null,
            "padding": null,
            "right": null,
            "top": null,
            "visibility": null,
            "width": null
          }
        },
        "3a34662930e84ee0bfa601cf3ff245bb": {
          "model_module": "@jupyter-widgets/controls",
          "model_name": "ButtonModel",
          "model_module_version": "1.5.0",
          "state": {
            "_dom_classes": [],
            "_model_module": "@jupyter-widgets/controls",
            "_model_module_version": "1.5.0",
            "_model_name": "ButtonModel",
            "_view_count": null,
            "_view_module": "@jupyter-widgets/controls",
            "_view_module_version": "1.5.0",
            "_view_name": "ButtonView",
            "button_style": "",
            "description": "Start Button :)",
            "disabled": false,
            "icon": "",
            "layout": "IPY_MODEL_5318b05d39a042d1bd6cebf2925b78e2",
            "style": "IPY_MODEL_0b1c291243744abebaaf990217a540be",
            "tooltip": ""
          }
        },
        "5318b05d39a042d1bd6cebf2925b78e2": {
          "model_module": "@jupyter-widgets/base",
          "model_name": "LayoutModel",
          "model_module_version": "1.2.0",
          "state": {
            "_model_module": "@jupyter-widgets/base",
            "_model_module_version": "1.2.0",
            "_model_name": "LayoutModel",
            "_view_count": null,
            "_view_module": "@jupyter-widgets/base",
            "_view_module_version": "1.2.0",
            "_view_name": "LayoutView",
            "align_content": null,
            "align_items": null,
            "align_self": null,
            "border": null,
            "bottom": null,
            "display": null,
            "flex": null,
            "flex_flow": null,
            "grid_area": null,
            "grid_auto_columns": null,
            "grid_auto_flow": null,
            "grid_auto_rows": null,
            "grid_column": null,
            "grid_gap": null,
            "grid_row": null,
            "grid_template_areas": null,
            "grid_template_columns": null,
            "grid_template_rows": null,
            "height": null,
            "justify_content": null,
            "justify_items": null,
            "left": null,
            "margin": null,
            "max_height": null,
            "max_width": null,
            "min_height": null,
            "min_width": null,
            "object_fit": null,
            "object_position": null,
            "order": null,
            "overflow": null,
            "overflow_x": null,
            "overflow_y": null,
            "padding": null,
            "right": null,
            "top": null,
            "visibility": null,
            "width": null
          }
        },
        "0b1c291243744abebaaf990217a540be": {
          "model_module": "@jupyter-widgets/controls",
          "model_name": "ButtonStyleModel",
          "model_module_version": "1.5.0",
          "state": {
            "_model_module": "@jupyter-widgets/controls",
            "_model_module_version": "1.5.0",
            "_model_name": "ButtonStyleModel",
            "_view_count": null,
            "_view_module": "@jupyter-widgets/base",
            "_view_module_version": "1.2.0",
            "_view_name": "StyleView",
            "button_color": null,
            "font_weight": ""
          }
        },
        "5b434fc740a54436b3a4d2808499dbb0": {
          "model_module": "@jupyter-widgets/output",
          "model_name": "OutputModel",
          "model_module_version": "1.0.0",
          "state": {
            "_dom_classes": [],
            "_model_module": "@jupyter-widgets/output",
            "_model_module_version": "1.0.0",
            "_model_name": "OutputModel",
            "_view_count": null,
            "_view_module": "@jupyter-widgets/output",
            "_view_module_version": "1.0.0",
            "_view_name": "OutputView",
            "layout": "IPY_MODEL_4838914461fa4ae29618eb1fe361c349",
            "msg_id": "",
            "outputs": [
              {
                "output_type": "stream",
                "name": "stdout",
                "text": [
                  "The exchange rate at day 1 is 290\n",
                  "The exchange rate at day 2 is 291\n",
                  "The exchange rate at day 3 is 292\n",
                  "The exchange rate at day 4 is 293\n",
                  "The exchange rate at day 5 is 294\n",
                  "The exchange rate at day 6 is 295\n",
                  "The exchange rate at day 7 is 296\n",
                  "The exchange rate at day 8 is 297\n",
                  "The exchange rate at day 9 is 298\n",
                  "The exchange rate at day 10 is 299\n",
                  "The exchange rate at day 11 is 300\n",
                  "Target reacher!!! Exchange rate is 300\n"
                ]
              }
            ]
          }
        },
        "4838914461fa4ae29618eb1fe361c349": {
          "model_module": "@jupyter-widgets/base",
          "model_name": "LayoutModel",
          "model_module_version": "1.2.0",
          "state": {
            "_model_module": "@jupyter-widgets/base",
            "_model_module_version": "1.2.0",
            "_model_name": "LayoutModel",
            "_view_count": null,
            "_view_module": "@jupyter-widgets/base",
            "_view_module_version": "1.2.0",
            "_view_name": "LayoutView",
            "align_content": null,
            "align_items": null,
            "align_self": null,
            "border": null,
            "bottom": null,
            "display": null,
            "flex": null,
            "flex_flow": null,
            "grid_area": null,
            "grid_auto_columns": null,
            "grid_auto_flow": null,
            "grid_auto_rows": null,
            "grid_column": null,
            "grid_gap": null,
            "grid_row": null,
            "grid_template_areas": null,
            "grid_template_columns": null,
            "grid_template_rows": null,
            "height": null,
            "justify_content": null,
            "justify_items": null,
            "left": null,
            "margin": null,
            "max_height": null,
            "max_width": null,
            "min_height": null,
            "min_width": null,
            "object_fit": null,
            "object_position": null,
            "order": null,
            "overflow": null,
            "overflow_x": null,
            "overflow_y": null,
            "padding": null,
            "right": null,
            "top": null,
            "visibility": null,
            "width": null
          }
        }
      }
    }
  },
  "nbformat": 4,
  "nbformat_minor": 0
}